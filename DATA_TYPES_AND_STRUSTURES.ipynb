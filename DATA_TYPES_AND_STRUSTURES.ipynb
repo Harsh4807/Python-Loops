{
  "nbformat": 4,
  "nbformat_minor": 0,
  "metadata": {
    "colab": {
      "provenance": [],
      "authorship_tag": "ABX9TyMHYssxfJXEUViZydgqgZfA",
      "include_colab_link": true
    },
    "kernelspec": {
      "name": "python3",
      "display_name": "Python 3"
    },
    "language_info": {
      "name": "python"
    }
  },
  "cells": [
    {
      "cell_type": "markdown",
      "metadata": {
        "id": "view-in-github",
        "colab_type": "text"
      },
      "source": [
        "<a href=\"https://colab.research.google.com/github/Harsh4807/Python-Loops/blob/main/DATA_TYPES_AND_STRUSTURES.ipynb\" target=\"_parent\"><img src=\"https://colab.research.google.com/assets/colab-badge.svg\" alt=\"Open In Colab\"/></a>"
      ]
    },
    {
      "cell_type": "markdown",
      "source": [
        "Q1. What are data structures, and why are they important.\n",
        "Ans--> A data structure is a special way of organizing and storing data in a in our programs.\n",
        "it's importants are:-\n",
        "*You can quickly access, search, sort, or update data.\n",
        "*Choosing the right data structure can make your program much faster.\n",
        "*Helps write cleaner, more logical code.\n",
        "\n",
        "Q2. Explain the difference between mutable and immutable data types with examples.\n",
        "Ans-->\n",
        "#Mutable Data Types:-\n",
        "*We can update the memory as per need without any error.\n",
        "*Stored in memory as one Object.\n",
        "*Ex: (List,Dict,Set).\n",
        "# Immutable Data Type:-\n",
        "*We cannot update the memory as per need, It will give error.\n",
        "*Stored in memory as new object created on change.\n",
        "*Ex: (Tuple,Str).\n",
        "\n",
        "Q3. What are the main differences between lists and tuples in Python?\n",
        "Ans-->\n",
        "#List\n",
        "*List is a Mutable Data Type.\n",
        "*It is denoted as [].\n",
        "*We can add or remove element.\n",
        "*Many methods are available,Like(append.(),remve.(),etc)\n",
        "#Tuple\n",
        "*Tuple is Immutable Data Type.\n",
        "*It is denoted as ().\n",
        "*We cannot add or remove element after creation.\n",
        "*Few methods are available,Like(Count,Index)only.\n",
        "\n",
        "Q4. Describe how dictionaries store data?\n",
        "Ans--> Dictionaries store data in Key value pairs and keys are unique and immutable.\n",
        "\n",
        "Q5. Why might you use a set instead of a list in Python?\n",
        "Ans-->\n",
        "*Automatically Remove Duplicates\n",
        "*For checking if an item exists in a set is much faster than in a list\n",
        "*Sets allow you to do math-like operations to compare data between collections.\n",
        "\n",
        "Q6. What is a string in Python, and how is it different from a list?\n",
        "Ans--> String is a sequence of characters enclosed in quotes.\n",
        "Strings are diffrent from lists in many following ways:-\n",
        "*String can use only character Data Type.\n",
        "*It is immutable.\n",
        "*It is enclosed in \"\".\n",
        "\n",
        "Q7. How do tuples ensure data integrity in Python?\n",
        "Ans-->\n",
        "*Immutable- Once created cannot be changed.\n",
        "*Hashable- Can be use as a key in dictonary.\n",
        "*Fixed dize- No adding or removing after created.\n",
        "\n",
        "Q8. What is a hash table, and how does it relate to dictionaries in Python?\n",
        "Ans--> A hash table is a special data structure that stores data in key value pairs and allows very fast access to the value using the key.\n",
        " It relate to dictionaries in Python:-\n",
        " *Jumps to the memory location\n",
        " *Instantly fetches the value.\n",
        "\n",
        "Q9. Can lists contain different data types in Python?\n",
        "Ans--> Yes,lists contain different data types in Python.\n",
        "\n",
        "Q10. Explain why strings are immutable in Python?\n",
        "Ans-->\n",
        "*Hashable- Can be used as dict/set keys\n",
        "*Memory optimized- Faster and efficient\n",
        "*Safer code- Reduce bugs in large programs.\n",
        "\n",
        "Q11. What advantages do dictionaries offer over lists for certain tasks?\n",
        "Aans-->\n",
        "*No Need to Remember Index Positions\n",
        "*Better for Structured Data\n",
        "*Direct Access Using Keys.\n",
        "\n",
        "Q12. Describe a scenario where using a tuple would be preferable over a list?\n",
        "Ans-->\n",
        "location = (28.6139, 77.2090)\n",
        "location = [28.6139, 77.2090]\n",
        "location[0] = 0 #This can change the coordinate accidently.\n",
        "*A tuple would be preferable over a list by this:-\n",
        "mmutable- Protects your coordinate from modification\n",
        "Ordered- First is always latitude, second longitude\n",
        "Hashable- Can be used as dictionary keys.\n",
        "\n",
        "Q13. How do sets handle duplicate values in Python?\n",
        "Ans-->In Python, sets automatically remove all duplicate values because\n",
        "they only store unique elements.\n",
        "\n",
        "Q14.How does the “in” keyword work differently for lists and dictionaries?\n",
        "Ans-->*In List- It checks if a specific value exists anywhere in the list.\n",
        "*In Dictionaries- It checks if the given item exists as a key in the dictionary not a value.\n",
        "\n",
        "Q15.Can you modify the elements of a tuple? Explain why or why not?\n",
        "Ans-->No, you cannot modify the elements of a tuple because it is immutable.\n",
        "\n",
        "Q16.What is a nested dictionary, and give an example of its use case?\n",
        "Ans-->A nested dictionary is a dictionary that contains one or more dictionaries as values.\n",
        "Use Case:-\n",
        "student= {\n",
        "    \"1\":{\"Name\":\"Harsh\",\"Marks\":{\"Math\":75,\"Science\":98}},\n",
        "    \"2\":{\"Name\":\"Yash\",\"Marks\":{\"Math\":25,\"Science\":21}}\n",
        "}\n",
        "print(student[\"1\"][\"Marks\"][\"Math\"])\n",
        "\n",
        "Q17. Describe the time complexity of accessing elements in a dictionary.\n",
        "Ans-->Accessing a value from a dictionary by its key is extremely efficient in Python.\n",
        "The time complexity is generally O(1) (constant time), which means it doesn’t slow down even if the dictionary has thousands of items.\n",
        "\n",
        "Q18. In what situations are lists preferred over dictionaries.\n",
        "Ans-->Although dictionaries are powerful for key-based access, Python lists are a better choice in certain situations.\n",
        "*When You Care About Order and Position\n",
        "*When You Need to Loop Through Items in Order\n",
        "*When You Want to Store Unstructured Data.etc.\n",
        "\n",
        "Q19. Why are dictionaries considered unordered, and how does that affect data retrieval.\n",
        "Ans-->In earlier versions of Python (before version 3.7), dictionaries were considere unordered collections —\n",
        "They didn't preserve the order in which key-value pairs were added.\n",
        "*You couldn't rely on the order of items in a dictionary.\n",
        "*Two dictionaries with the same key-value pairs could display them in different orders.\n",
        "*Iterating over a dictionary (e.g., in a for loop) would not follow insertion order.\n",
        "Starting with (Python 3.7), dictionaries became insertion-ordered as an implementation detail, and from (Python 3.8) onward.\n",
        "\n",
        "Q20.Explain the difference between a list and a dictionary in terms of data retrieval.\n",
        "Ans-->\n",
        "Aspect/\t                     List/                              Dictionary/\n",
        "Retrieval method:\t     By index (position)\t     &             By key (label)\n",
        "Key type:\t               Always integers         &          Any immutable type\n",
        "Data organization:\t         Sequential\t         &              Key-value paired\n",
        "Suitability:\t          Ordered collections\t     &    Structured or labeled data\n",
        "\n",
        "\n",
        "\n",
        "\n",
        "\n",
        "\n"
      ],
      "metadata": {
        "id": "Pfc35ooKD4-K"
      }
    },
    {
      "cell_type": "code",
      "source": [
        "# Q1.  Write a code to create a string with your name and print it.\n",
        "name=\"Harsh\"\n",
        "print(name)"
      ],
      "metadata": {
        "colab": {
          "base_uri": "https://localhost:8080/"
        },
        "id": "FLu0fWHL27PF",
        "outputId": "303f0fb7-96c4-4ee1-8b88-0396712e12aa"
      },
      "execution_count": 1,
      "outputs": [
        {
          "output_type": "stream",
          "name": "stdout",
          "text": [
            "Harsh\n"
          ]
        }
      ]
    },
    {
      "cell_type": "code",
      "source": [
        "# Q2. Write a code to find the length of the string \"Hello World\".\n",
        "a=\"Hello World\"\n",
        "print(len(a))"
      ],
      "metadata": {
        "colab": {
          "base_uri": "https://localhost:8080/"
        },
        "id": "JuXTKZ9g3KeD",
        "outputId": "c4eedb0b-c6d4-4ed9-c740-7a8adeb453cf"
      },
      "execution_count": 2,
      "outputs": [
        {
          "output_type": "stream",
          "name": "stdout",
          "text": [
            "11\n"
          ]
        }
      ]
    },
    {
      "cell_type": "code",
      "source": [
        "# Q3. Write a code to slice the first 3 characters from the string \"Python Programming\".\n",
        "a=\"Python Programming\"\n",
        "print(a[0:3])"
      ],
      "metadata": {
        "colab": {
          "base_uri": "https://localhost:8080/"
        },
        "id": "ApLrrJjb3iS7",
        "outputId": "112f1f9c-6fd2-4918-c4fb-caac606d017f"
      },
      "execution_count": 3,
      "outputs": [
        {
          "output_type": "stream",
          "name": "stdout",
          "text": [
            "Pyt\n"
          ]
        }
      ]
    },
    {
      "cell_type": "code",
      "source": [
        "# Q4. Write a code to convert the string \"hello\" to uppercase.\n",
        "a=\"hello\"\n",
        "b=a.upper()\n",
        "print(b)"
      ],
      "metadata": {
        "colab": {
          "base_uri": "https://localhost:8080/"
        },
        "id": "tVVBvr273514",
        "outputId": "062cfc89-f589-4423-c310-f038427f33bc"
      },
      "execution_count": 6,
      "outputs": [
        {
          "output_type": "stream",
          "name": "stdout",
          "text": [
            "HELLO\n"
          ]
        }
      ]
    },
    {
      "cell_type": "code",
      "source": [
        "# Q5. Write a code to replace the word \"apple\" with \"orange\" in the string \"I like apple\"\n",
        "a=\"I like apple\"\n",
        "print(a.replace(\"apple\",\"orange\"))"
      ],
      "metadata": {
        "colab": {
          "base_uri": "https://localhost:8080/"
        },
        "id": "YB-gI-8I4afM",
        "outputId": "37f40853-f18e-409a-a661-38aa59c67dad"
      },
      "execution_count": 8,
      "outputs": [
        {
          "output_type": "stream",
          "name": "stdout",
          "text": [
            "I like orange\n"
          ]
        }
      ]
    },
    {
      "cell_type": "code",
      "source": [
        "# Q6. Write a code to create a list with numbers 1 to 5 and print it.\n",
        "a=[]\n",
        "for i in range(1,6):\n",
        "    a.append(i)\n",
        "print(a)"
      ],
      "metadata": {
        "colab": {
          "base_uri": "https://localhost:8080/"
        },
        "id": "eSrbCCHoEv6C",
        "outputId": "c1f91531-9fed-426b-9ab5-a4800dc4166e"
      },
      "execution_count": 9,
      "outputs": [
        {
          "output_type": "stream",
          "name": "stdout",
          "text": [
            "[1, 2, 3, 4, 5]\n"
          ]
        }
      ]
    },
    {
      "cell_type": "code",
      "source": [
        "# Q7. Write a code to append the number 10 to the list [1, 2, 3, 4]\n",
        "l=[1,2,3,4,5]\n",
        "l.append(10)\n",
        "print(l)"
      ],
      "metadata": {
        "colab": {
          "base_uri": "https://localhost:8080/"
        },
        "id": "kWE-rzLiFesk",
        "outputId": "e7156dc3-03c4-4399-9fc1-3472a35cc833"
      },
      "execution_count": 10,
      "outputs": [
        {
          "output_type": "stream",
          "name": "stdout",
          "text": [
            "[1, 2, 3, 4, 5, 10]\n"
          ]
        }
      ]
    },
    {
      "cell_type": "code",
      "source": [
        "# Q8. Write a code to remove the number 3 from the list [1, 2, 3, 4, 5]\n",
        "l=[1,2,3,4,5]\n",
        "l.remove(3)\n",
        "print(l)"
      ],
      "metadata": {
        "colab": {
          "base_uri": "https://localhost:8080/"
        },
        "id": "_zIrWOsrF6lx",
        "outputId": "0ee5a67d-d256-427c-d696-ddd5448a9aae"
      },
      "execution_count": 11,
      "outputs": [
        {
          "output_type": "stream",
          "name": "stdout",
          "text": [
            "[1, 2, 4, 5]\n"
          ]
        }
      ]
    },
    {
      "cell_type": "code",
      "source": [
        "# Q9. Write a code to access the second element in the list ['a', 'b', 'c', 'd']\n",
        "l=['a', 'b', 'c', 'd']\n",
        "print(l[1])"
      ],
      "metadata": {
        "colab": {
          "base_uri": "https://localhost:8080/"
        },
        "id": "BP8kAiqpGJDp",
        "outputId": "d54eda00-aeb2-450e-b85f-e7060f855f86"
      },
      "execution_count": 12,
      "outputs": [
        {
          "output_type": "stream",
          "name": "stdout",
          "text": [
            "b\n"
          ]
        }
      ]
    },
    {
      "cell_type": "code",
      "source": [
        "# Q10.Write a code to reverse the list [10, 20, 30, 40, 50]\n",
        "l=[10, 20, 30, 40, 50]\n",
        "a=l.reverse()\n",
        "print(l)"
      ],
      "metadata": {
        "colab": {
          "base_uri": "https://localhost:8080/"
        },
        "id": "09n_Gd1lG7bB",
        "outputId": "1c14e606-7f1e-49bb-af67-1f113e41f28f"
      },
      "execution_count": 13,
      "outputs": [
        {
          "output_type": "stream",
          "name": "stdout",
          "text": [
            "[50, 40, 30, 20, 10]\n"
          ]
        }
      ]
    },
    {
      "cell_type": "code",
      "source": [
        "# Q11.Write a code to create a tuple with the elements 100, 200, 300 and print it\n",
        "t=(100,200,300)\n",
        "print(t)"
      ],
      "metadata": {
        "colab": {
          "base_uri": "https://localhost:8080/"
        },
        "id": "5oKO_5DdHQ68",
        "outputId": "99944297-acaa-4899-d78a-8e953dcbdcfb"
      },
      "execution_count": 14,
      "outputs": [
        {
          "output_type": "stream",
          "name": "stdout",
          "text": [
            "(100, 200, 300)\n"
          ]
        }
      ]
    },
    {
      "cell_type": "code",
      "source": [
        "# Q12.Write a code to access the second-to-last element of the tuple ('red', 'green', 'blue', 'yellow').\n",
        "t=('red', 'green', 'blue', 'yellow')\n",
        "print(t[1:])"
      ],
      "metadata": {
        "colab": {
          "base_uri": "https://localhost:8080/"
        },
        "id": "tUzv8OcwH2fo",
        "outputId": "3bc02196-2c60-45d5-e5cc-58098040dfdf"
      },
      "execution_count": 15,
      "outputs": [
        {
          "output_type": "stream",
          "name": "stdout",
          "text": [
            "('green', 'blue', 'yellow')\n"
          ]
        }
      ]
    },
    {
      "cell_type": "code",
      "source": [
        "# Q13.Write a code to find the minimum number in the tuple (10, 20, 5, 15).\n",
        "t=(10, 20, 5, 15)\n",
        "print(min(t))"
      ],
      "metadata": {
        "colab": {
          "base_uri": "https://localhost:8080/"
        },
        "id": "o_BfvjsONJqF",
        "outputId": "5e9f5432-9c28-4f1c-f1b5-c9644860a827"
      },
      "execution_count": 16,
      "outputs": [
        {
          "output_type": "stream",
          "name": "stdout",
          "text": [
            "5\n"
          ]
        }
      ]
    },
    {
      "cell_type": "code",
      "source": [
        "# Q14.Write a code to find the index of the element \"cat\" in the tuple ('dog', 'cat', 'rabbit').\n",
        "t=('dog', 'cat', 'rabbit')\n",
        "print(t.index(\"cat\"))"
      ],
      "metadata": {
        "colab": {
          "base_uri": "https://localhost:8080/"
        },
        "id": "5GDLJOeFNq9C",
        "outputId": "0d1f70bb-c444-4e20-8070-e40def821fd0"
      },
      "execution_count": 17,
      "outputs": [
        {
          "output_type": "stream",
          "name": "stdout",
          "text": [
            "1\n"
          ]
        }
      ]
    },
    {
      "cell_type": "code",
      "source": [
        "# Q15.Write a code to create a tuple containing three different fruits and check if \"kiwi\" is in it.\n",
        "t=(\"apple\",\"banana\",\"kiwi\")\n",
        "print(\"kiwi\" in t)"
      ],
      "metadata": {
        "colab": {
          "base_uri": "https://localhost:8080/"
        },
        "id": "QE6DuK7mQDlH",
        "outputId": "e1f9ea2e-fa1b-4357-ebb0-e74185e88128"
      },
      "execution_count": 18,
      "outputs": [
        {
          "output_type": "stream",
          "name": "stdout",
          "text": [
            "True\n"
          ]
        }
      ]
    },
    {
      "cell_type": "code",
      "source": [
        "# Q16.Write a code to create a set with the elements 'a', 'b', 'c' and print it.\n",
        "t={\"a\", \"b\", \"c\"}\n",
        "print(t)"
      ],
      "metadata": {
        "colab": {
          "base_uri": "https://localhost:8080/"
        },
        "id": "iphTUvUlQ9XK",
        "outputId": "531e2063-fae3-4aca-e2fc-93b689fe52fc"
      },
      "execution_count": 22,
      "outputs": [
        {
          "output_type": "stream",
          "name": "stdout",
          "text": [
            "{'c', 'a', 'b'}\n"
          ]
        }
      ]
    },
    {
      "cell_type": "code",
      "source": [
        "# Q17. Write a code to clear all elements from the set {1, 2, 3, 4, 5}.\n",
        "a={1, 2, 3, 4, 5}\n",
        "a.clear()\n",
        "print(a)"
      ],
      "metadata": {
        "colab": {
          "base_uri": "https://localhost:8080/"
        },
        "id": "8wp4Wq5iZeIm",
        "outputId": "67009444-5976-4dba-e8fc-a3c7e6d9feea"
      },
      "execution_count": 24,
      "outputs": [
        {
          "output_type": "stream",
          "name": "stdout",
          "text": [
            "set()\n"
          ]
        }
      ]
    },
    {
      "cell_type": "code",
      "source": [
        "# Q18.Write a code to remove the element 4 from the set {1, 2, 3, 4}.\n",
        "a={1, 2, 3, 4}\n",
        "a.remove(4)\n",
        "print(a)"
      ],
      "metadata": {
        "colab": {
          "base_uri": "https://localhost:8080/"
        },
        "id": "Hzvh-DqVaCQW",
        "outputId": "9ef82174-a61d-4786-b9d5-2117832424cb"
      },
      "execution_count": 25,
      "outputs": [
        {
          "output_type": "stream",
          "name": "stdout",
          "text": [
            "{1, 2, 3}\n"
          ]
        }
      ]
    },
    {
      "cell_type": "code",
      "source": [
        "# Q19.Write a code to find the union of two sets {1, 2, 3} and {3, 4, 5}.\n",
        "a={1, 2, 3}\n",
        "b={3, 4, 5}\n",
        "print(a | b)"
      ],
      "metadata": {
        "colab": {
          "base_uri": "https://localhost:8080/"
        },
        "id": "wA6AFYOiab8R",
        "outputId": "3eb23eee-5ee1-44d6-ee57-d145e6c612a4"
      },
      "execution_count": 30,
      "outputs": [
        {
          "output_type": "stream",
          "name": "stdout",
          "text": [
            "{1, 2, 3, 4, 5}\n"
          ]
        }
      ]
    },
    {
      "cell_type": "code",
      "source": [
        "# Q20.Write a code to find the intersection of two sets {1, 2, 3} and {2, 3, 4}.\n",
        "a={1, 2, 3}\n",
        "b={2, 3, 4}\n",
        "print(a & b)"
      ],
      "metadata": {
        "colab": {
          "base_uri": "https://localhost:8080/"
        },
        "id": "BRMwA3NsbXcf",
        "outputId": "22df9dae-c477-4baf-ad09-ed9a7b010be1"
      },
      "execution_count": 31,
      "outputs": [
        {
          "output_type": "stream",
          "name": "stdout",
          "text": [
            "{2, 3}\n"
          ]
        }
      ]
    },
    {
      "cell_type": "code",
      "source": [
        "# Q22.Write a code to create a dictionary with the keys \"name\", \"age\", and \"city\", and print it.\n",
        "dic={\"Name\":\"Harsh\",\"Age\":23,\"City\":\"Dhanbad\"}\n",
        "print(dic)"
      ],
      "metadata": {
        "colab": {
          "base_uri": "https://localhost:8080/"
        },
        "id": "aIybKR23bsfM",
        "outputId": "a0ff1c22-afe2-41f2-bb07-003062c387bc"
      },
      "execution_count": 34,
      "outputs": [
        {
          "output_type": "stream",
          "name": "stdout",
          "text": [
            "{'Name': 'Harsh', 'Age': 23, 'City': 'Dhanbad'}\n"
          ]
        }
      ]
    },
    {
      "cell_type": "code",
      "source": [
        "# Q23.Write a code to add a new key-value pair \"country\": \"USA\" to the dictionary {'name': 'John', 'age': 25}.\n",
        "a={'name': 'John', 'age': 25}\n",
        "b={\"country\": \"USA\"}\n",
        "a.update(b)\n",
        "print(a)"
      ],
      "metadata": {
        "colab": {
          "base_uri": "https://localhost:8080/"
        },
        "id": "_mPilknVc2EI",
        "outputId": "bf5b68e1-ae73-4829-a5fc-ad3a031186ca"
      },
      "execution_count": 38,
      "outputs": [
        {
          "output_type": "stream",
          "name": "stdout",
          "text": [
            "{'name': 'John', 'age': 25, 'country': 'USA'}\n"
          ]
        }
      ]
    },
    {
      "cell_type": "code",
      "source": [
        "# Q24.Write a code to access the value associated with the key \"name\" in the dictionary {'name': 'Alice', 'age': 30}.\n",
        "a={'name': 'Alice', 'age': 30}\n",
        "print(a[\"name\"])"
      ],
      "metadata": {
        "colab": {
          "base_uri": "https://localhost:8080/"
        },
        "id": "pGVY-9pvf2iy",
        "outputId": "39833ce3-0fcd-4f2d-ed37-4ae43d07d349"
      },
      "execution_count": 39,
      "outputs": [
        {
          "output_type": "stream",
          "name": "stdout",
          "text": [
            "Alice\n"
          ]
        }
      ]
    },
    {
      "cell_type": "code",
      "source": [
        "# Q25.Write a code to remove the key \"age\" from the dictionary {'name': 'Bob', 'age': 22, 'city': 'New York'}.\n",
        "dic={'name': 'Bob', 'age': 22, 'city': 'New York'}\n",
        "dic.pop('age')\n",
        "print(dic)\n"
      ],
      "metadata": {
        "colab": {
          "base_uri": "https://localhost:8080/"
        },
        "id": "4AsXnJl8glEX",
        "outputId": "7e046111-8853-4082-f2f8-36970d010d17"
      },
      "execution_count": 40,
      "outputs": [
        {
          "output_type": "stream",
          "name": "stdout",
          "text": [
            "{'name': 'Bob', 'city': 'New York'}\n"
          ]
        }
      ]
    },
    {
      "cell_type": "code",
      "source": [
        "# Q26. Write a code to check if the key \"city\" exists in the dictionary {'name': 'Alice', 'city': 'Paris'}.\n",
        "dic={'name': 'Alice', 'city': 'Paris'}\n",
        "print('city' in dic)"
      ],
      "metadata": {
        "colab": {
          "base_uri": "https://localhost:8080/"
        },
        "id": "HGSu8QzQqRNW",
        "outputId": "53cf8ba8-18ed-4c5b-aecd-cd4302ba040a"
      },
      "execution_count": 42,
      "outputs": [
        {
          "output_type": "stream",
          "name": "stdout",
          "text": [
            "True\n"
          ]
        }
      ]
    },
    {
      "cell_type": "code",
      "source": [
        "# Q27.Write a code to create a list, a tuple, and a dictionary, and print them all.\n",
        "lis=[1,2,\"Harsh\",True]\n",
        "tup=(\"harsh\",\"1\",2,4)\n",
        "dic={\"Name\":\"Harsh\",\"Age\":\"23\",\"City\":\"Dhanbad\"}\n",
        "print(lis)\n",
        "print(tup)\n",
        "print(dic)"
      ],
      "metadata": {
        "colab": {
          "base_uri": "https://localhost:8080/"
        },
        "id": "ZdtxbS0jq2yH",
        "outputId": "b6c83830-712d-47f6-afc5-c6fce281a5ca"
      },
      "execution_count": 43,
      "outputs": [
        {
          "output_type": "stream",
          "name": "stdout",
          "text": [
            "[1, 2, 'Harsh', True]\n",
            "('harsh', '1', 2, 4)\n",
            "{'Name': 'Harsh', 'Age': '23', 'City': 'Dhanbad'}\n"
          ]
        }
      ]
    },
    {
      "cell_type": "code",
      "source": [
        "# Q27. Write a code to create a list of 5 random numbers between 1 and 100, sort it in ascending order, and print the result.(replaced)\n",
        "lis= [75,98,22,99,44,71,1]\n",
        "lis.sort()\n",
        "print(lis)"
      ],
      "metadata": {
        "colab": {
          "base_uri": "https://localhost:8080/"
        },
        "id": "34NFIbYms827",
        "outputId": "b9071c68-2a77-42df-c274-aeef8172a347"
      },
      "execution_count": 44,
      "outputs": [
        {
          "output_type": "stream",
          "name": "stdout",
          "text": [
            "[1, 22, 44, 71, 75, 98, 99]\n"
          ]
        }
      ]
    },
    {
      "cell_type": "code",
      "source": [
        "# Q28.Write a code to create a list with strings and print the element at the third index.\n",
        "lis= [1,2,\"Harsh\",\"Yash\",True,3+7j]\n",
        "print(lis[2])"
      ],
      "metadata": {
        "colab": {
          "base_uri": "https://localhost:8080/"
        },
        "id": "E9pLg42yuwKV",
        "outputId": "c398461c-4ba5-447b-e27f-09a3c98e38ae"
      },
      "execution_count": 45,
      "outputs": [
        {
          "output_type": "stream",
          "name": "stdout",
          "text": [
            "Harsh\n"
          ]
        }
      ]
    },
    {
      "cell_type": "code",
      "source": [
        "# Q29.Write a code to combine two dictionaries into one and print the result.\n",
        "dic={\"Name\":\"Harsh\",\"Age\":23}\n",
        "dic1={\"City\":\"Dhanbad\",\"College\":\"UCET\"}\n",
        "dic.update(dic1)\n",
        "print(dic)"
      ],
      "metadata": {
        "colab": {
          "base_uri": "https://localhost:8080/"
        },
        "id": "hWCHn5fcwHCU",
        "outputId": "7db66bc4-0743-4335-aa59-41b2a4a68782"
      },
      "execution_count": 48,
      "outputs": [
        {
          "output_type": "stream",
          "name": "stdout",
          "text": [
            "{'Name': 'Harsh', 'Age': 23, 'City': 'Dhanbad', 'College': 'UCET'}\n"
          ]
        }
      ]
    },
    {
      "cell_type": "code",
      "source": [
        "# Q30. Write a code to convert a list of strings into a set.\n",
        "lis=[\"Apple\",\"Mango\",\"Banana\",\"Kiwi\"]\n",
        "print(set(lis))"
      ],
      "metadata": {
        "colab": {
          "base_uri": "https://localhost:8080/"
        },
        "id": "AIrE414Yx5Y4",
        "outputId": "fac4a60c-e7ec-48cc-a043-8e45dcf90f70"
      },
      "execution_count": 49,
      "outputs": [
        {
          "output_type": "stream",
          "name": "stdout",
          "text": [
            "{'Kiwi', 'Banana', 'Apple', 'Mango'}\n"
          ]
        }
      ]
    }
  ]
}